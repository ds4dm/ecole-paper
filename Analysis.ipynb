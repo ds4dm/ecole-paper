{
 "cells": [
  {
   "cell_type": "markdown",
   "id": "competitive-typing",
   "metadata": {},
   "source": [
    "# Ecole Benchmark Data Analysis"
   ]
  },
  {
   "cell_type": "code",
   "execution_count": 1,
   "id": "emotional-manchester",
   "metadata": {},
   "outputs": [],
   "source": [
    "import numpy as np\n",
    "import scipy.stats as stats\n",
    "import pandas as pd\n",
    "import matplotlib.pyplot as plt\n",
    "import seaborn as sns\n",
    "import ipywidgets\n",
    "\n",
    "sns.set_theme(style=\"whitegrid\")"
   ]
  },
  {
   "cell_type": "code",
   "execution_count": 2,
   "id": "pharmaceutical-veteran",
   "metadata": {},
   "outputs": [],
   "source": [
    "%matplotlib inline"
   ]
  },
  {
   "cell_type": "markdown",
   "id": "artificial-asthma",
   "metadata": {},
   "source": [
    "## Branching Dynamics Benchmark\n",
    "\n",
    "Statistical Student T-test to check if branching dynamics time and branching rule time ration are sinificatively similar to `1.0`.\n",
    "\n",
    "We use wall time as time expected to be loast in the `ReverseControl` would not be CPU bound.\n",
    "We use ratio instread of difference due to high variations in instance solving time."
   ]
  },
  {
   "cell_type": "code",
   "execution_count": 3,
   "id": "ethical-insider",
   "metadata": {},
   "outputs": [
    {
     "name": "stdout",
     "output_type": "stream",
     "text": [
      "ratio ~ 1.005 ± 0.022\n"
     ]
    }
   ],
   "source": [
    "branching_df = pd.read_csv(\"data/benchmark-branching.csv\")\n",
    "\n",
    "ratio = branching_df[f\"branching_dynamics:wall_time_s\"] / branching_df[f\"branching_rule:wall_time_s\"]\n",
    "print(f\"ratio ~ {ratio.mean():.3f} ± {ratio.std():.3f}\")"
   ]
  },
  {
   "cell_type": "markdown",
   "id": "dying-living",
   "metadata": {},
   "source": [
    "One sample T-test for the hypothesis that the ratio mean is equal to `1.0`:"
   ]
  },
  {
   "cell_type": "code",
   "execution_count": 4,
   "id": "green-nowhere",
   "metadata": {},
   "outputs": [
    {
     "data": {
      "text/plain": [
       "5.6959634663725635e-52"
      ]
     },
     "execution_count": 4,
     "metadata": {},
     "output_type": "execute_result"
    }
   ],
   "source": [
    "stats.ttest_1samp(ratio, 1.0).pvalue"
   ]
  },
  {
   "cell_type": "markdown",
   "id": "otherwise-maldives",
   "metadata": {},
   "source": [
    "## Observation Benchmark"
   ]
  },
  {
   "cell_type": "code",
   "execution_count": 5,
   "id": "perceived-moscow",
   "metadata": {},
   "outputs": [],
   "source": [
    "observation_df = pd.read_csv(\"data/observation.csv\")\n",
    "observation_df[\"generator\"] = observation_df[\"name\"].map(lambda name: name.split(\"-\")[0])"
   ]
  },
  {
   "cell_type": "code",
   "execution_count": 6,
   "id": "clinical-trout",
   "metadata": {},
   "outputs": [],
   "source": [
    "time_units = { \"s\": 1.0, \"ms\": 1e3, \"µs\": 1e6, \"ns\": 1e9, }\n",
    "\n",
    "def plot(observation, time, generator, normalize, unit):\n",
    "    # Select given generator\n",
    "    df = observation_df[observation_df[\"generator\"] == generator].copy()\n",
    "\n",
    "    # Columns with numerical information being plotted\n",
    "    data_cols_names = [f\"ecole:{observation}:{time}_time_s\", f\"ecole_vs_gasse:{observation}:{time}_time_s\"]\n",
    "\n",
    "    # Change unit and normalize by given quantitiy\n",
    "    for col_name in data_cols_names:\n",
    "        df[col_name] *= time_units[unit]\n",
    "        if normalize is not None:\n",
    "            df[col_name] = df[col_name] / df[normalize]\n",
    "\n",
    "    # Unpivot the data to make it in long format\n",
    "    df = df.melt(\n",
    "        id_vars=[\"name\"],\n",
    "        value_vars=data_cols_names,\n",
    "        value_name=f\"{time}_time\",\n",
    "        var_name=\"Measure\",\n",
    "    )\n",
    "\n",
    "    # Rename implementation label\n",
    "    df[\"Implementation\"] = df[\"Measure\"].map(lambda name: name.split(\":\")[0])\n",
    "    df.loc[df[\"Implementation\"] == \"ecole\", \"Implementation\"] = \"Ecole\"\n",
    "    df.loc[df[\"Implementation\"] == \"ecole_vs_gasse\", \"Implementation\"] = \"Gasse et al.\"\n",
    "\n",
    "    # Plot data\n",
    "    fig, ax=plt.subplots(dpi=200, figsize=(20,10))\n",
    "    sns.violinplot(\n",
    "        data=df,\n",
    "        x=\"name\",\n",
    "        y=f\"{time}_time\",\n",
    "        hue=\"Implementation\",\n",
    "        split=True,\n",
    "        inner=\"quart\",\n",
    "        linewidth=1,\n",
    "        ax=ax,\n",
    "    )\n",
    "\n",
    "    # Customize Presentation\n",
    "    sns.despine(left=True)\n",
    "    ax.set(\n",
    "        title=f\"Distribution of Computation Time over {len(df)} Instances\",\n",
    "        xlabel=\"Generator\",\n",
    "        ylabel=f\"{time.capitalize()} Time ({unit})\",\n",
    "    )"
   ]
  },
  {
   "cell_type": "code",
   "execution_count": 8,
   "id": "silent-merchant",
   "metadata": {},
   "outputs": [
    {
     "data": {
      "application/vnd.jupyter.widget-view+json": {
       "model_id": "09db0b51365542bb83ab71787ab6d1e3",
       "version_major": 2,
       "version_minor": 0
      },
      "text/plain": [
       "interactive(children=(Dropdown(description='observation', options=('NodeBipartite', 'Khalil2016'), value='Node…"
      ]
     },
     "metadata": {},
     "output_type": "display_data"
    }
   ],
   "source": [
    "_ = ipywidgets.widgets.interact(\n",
    "    plot,\n",
    "    observation=[\"NodeBipartite\", \"Khalil2016\"],\n",
    "    time=[\"wall\", \"cpu\"],\n",
    "    generator=observation_df[\"generator\"].unique(),\n",
    "    normalize=[None, \"n_nodes\", \"n_vars\", \"n_cons\", \"root_nnz\", \"root_n_cols\", \"root_n_rows\"],\n",
    "    unit=time_units.keys()\n",
    ")"
   ]
  },
  {
   "cell_type": "code",
   "execution_count": null,
   "id": "administrative-baghdad",
   "metadata": {},
   "outputs": [],
   "source": []
  }
 ],
 "metadata": {
  "kernelspec": {
   "display_name": "Python 3",
   "language": "python",
   "name": "python3"
  },
  "language_info": {
   "codemirror_mode": {
    "name": "ipython",
    "version": 3
   },
   "file_extension": ".py",
   "mimetype": "text/x-python",
   "name": "python",
   "nbconvert_exporter": "python",
   "pygments_lexer": "ipython3",
   "version": "3.9.1"
  }
 },
 "nbformat": 4,
 "nbformat_minor": 5
}
